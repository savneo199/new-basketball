{
 "cells": [
  {
   "cell_type": "code",
   "execution_count": 1,
   "id": "e95a74ca",
   "metadata": {
    "execution": {
     "iopub.execute_input": "2025-08-25T23:11:43.745622Z",
     "iopub.status.busy": "2025-08-25T23:11:43.744709Z",
     "iopub.status.idle": "2025-08-25T23:11:43.752778Z",
     "shell.execute_reply": "2025-08-25T23:11:43.751897Z"
    }
   },
   "outputs": [],
   "source": [
    "PIPELINE_CONTEXT = {\"_runtime_context_name\": \"PIPELINE_CONTEXT\", \"params\": {\"n_clusters\": \"auto\", \"n_clusters_min\": 6, \"n_clusters_max\": 50, \"n_clusters_criterion\": \"silhouette\", \"pca_components\": \"auto\", \"pca_variance\": 0.9, \"pca_max_components\": 50, \"random_state\": 42}, \"artifacts\": {\"dir\": \"/vol/bitbucket/sn1624/data-driven-framework-for-athlete-profiling/artifacts/run_20250826_001058\", \"processed_data\": \"/vol/bitbucket/sn1624/data-driven-framework-for-athlete-profiling/artifacts/run_20250826_001058/processed.parquet\", \"model_file\": \"/vol/bitbucket/sn1624/data-driven-framework-for-athlete-profiling/artifacts/run_20250826_001058/kmeans_model.joblib\", \"scaler_file\": \"/vol/bitbucket/sn1624/data-driven-framework-for-athlete-profiling/artifacts/run_20250826_001058/scaler.joblib\", \"pca_file\": \"/vol/bitbucket/sn1624/data-driven-framework-for-athlete-profiling/artifacts/run_20250826_001058/pca.joblib\", \"cluster_summary\": \"/vol/bitbucket/sn1624/data-driven-framework-for-athlete-profiling/artifacts/run_20250826_001058/cluster_summary.json\", \"elbow_plot\": \"/vol/bitbucket/sn1624/data-driven-framework-for-athlete-profiling/artifacts/run_20250826_001058/elbow_plot.png\", \"silhouette_plot\": \"/vol/bitbucket/sn1624/data-driven-framework-for-athlete-profiling/artifacts/run_20250826_001058/silhouette_plot.png\", \"db_plot\": \"/vol/bitbucket/sn1624/data-driven-framework-for-athlete-profiling/artifacts/run_20250826_001058/db_plot.png\", \"ch_plot\": \"/vol/bitbucket/sn1624/data-driven-framework-for-athlete-profiling/artifacts/run_20250826_001058/ch_plot.png\", \"selection\": \"/vol/bitbucket/sn1624/data-driven-framework-for-athlete-profiling/artifacts/run_20250826_001058/selection.json\"}, \"cwd\": \"/vol/bitbucket/sn1624/data-driven-framework-for-athlete-profiling/pipeline\", \"data_dir\": \"/vol/bitbucket/sn1624/data-driven-framework-for-athlete-profiling/data/output_by_college_clean\"}"
   ]
  },
  {
   "cell_type": "markdown",
   "id": "6cf82c80",
   "metadata": {},
   "source": [
    "**Pipeline Context**"
   ]
  },
  {
   "cell_type": "code",
   "execution_count": 2,
   "id": "b9c91704",
   "metadata": {
    "execution": {
     "iopub.execute_input": "2025-08-25T23:11:43.755692Z",
     "iopub.status.busy": "2025-08-25T23:11:43.755413Z",
     "iopub.status.idle": "2025-08-25T23:11:43.834468Z",
     "shell.execute_reply": "2025-08-25T23:11:43.833674Z"
    }
   },
   "outputs": [],
   "source": [
    "try:\n",
    "    ctx = PIPELINE_CONTEXT\n",
    "except NameError:\n",
    "    import os\n",
    "    ctx = {\n",
    "        \"params\": {},\n",
    "        \"artifacts\": {\n",
    "            \"dir\": \"artifacts\",\n",
    "            \"processed_data\": \"artifacts/processed.parquet\",\n",
    "            \"model_file\": \"artifacts/kmeans_model.joblib\",\n",
    "            \"scaler_file\": \"artifacts/scaler.joblib\",\n",
    "            \"pca_file\": \"artifacts/pca.joblib\",\n",
    "            \"cluster_summary\": \"artifacts/cluster_summary.json\",\n",
    "            \"elbow_plot\": \"artifacts/elbow_plot.png\",\n",
    "            \"silhouette_plot\": \"artifacts/silhouette_plot.png\",\n",
    "            \"db_plot\": \"artifacts/db_plot.png\",\n",
    "            \"ch_plot\": \"artifacts/ch_plot.png\",\n",
    "            \"selection\": \"artifacts/selection.json\",\n",
    "        },\n",
    "        \"data_dir\": \"data\",\n",
    "    }\n",
    "\n",
    "from pathlib import Path\n",
    "import json\n",
    "\n",
    "P = ctx.get(\"params\", {})\n",
    "PATHS = ctx.get(\"artifacts\", {})\n",
    "DATA_DIR = ctx.get(\"data_dir\", \"data\")\n",
    "Path(PATHS[\"dir\"]).mkdir(parents=True, exist_ok=True)\n",
    "\n",
    "def save_json(obj, path):\n",
    "    Path(path).parent.mkdir(parents=True, exist_ok=True)\n",
    "    with open(path, \"w\") as f:\n",
    "        json.dump(obj, f, indent=2, default=float)\n",
    "\n",
    "def load_json(path, default=None):\n",
    "    p = Path(path)\n",
    "    if p.exists():\n",
    "        return json.loads(p.read_text())\n",
    "    return {} if default is None else default\n"
   ]
  },
  {
   "cell_type": "markdown",
   "id": "ad005bb1",
   "metadata": {},
   "source": [
    "**Imports**\n"
   ]
  },
  {
   "cell_type": "code",
   "execution_count": 3,
   "id": "60b99fac",
   "metadata": {
    "execution": {
     "iopub.execute_input": "2025-08-25T23:11:43.837519Z",
     "iopub.status.busy": "2025-08-25T23:11:43.837236Z",
     "iopub.status.idle": "2025-08-25T23:11:50.213752Z",
     "shell.execute_reply": "2025-08-25T23:11:50.212988Z"
    }
   },
   "outputs": [
    {
     "name": "stderr",
     "output_type": "stream",
     "text": [
      "/vol/bitbucket/sn1624/data-driven-framework-for-athlete-profiling/.venv/lib/python3.12/site-packages/tqdm/auto.py:21: TqdmWarning: IProgress not found. Please update jupyter and ipywidgets. See https://ipywidgets.readthedocs.io/en/stable/user_install.html\n",
      "  from .autonotebook import tqdm as notebook_tqdm\n"
     ]
    }
   ],
   "source": [
    "import pandas as pd\n",
    "import numpy as np\n",
    "from sklearn.cluster import KMeans\n",
    "from sklearn.metrics import silhouette_score, davies_bouldin_score, calinski_harabasz_score, adjusted_rand_score\n",
    "import matplotlib.pyplot as plt\n",
    "import seaborn as sns\n",
    "from scipy.stats import zscore\n",
    "import itertools\n",
    "from scipy.optimize import linear_sum_assignment\n",
    "from tqdm.auto import tqdm\n",
    "import joblib\n",
    "import json"
   ]
  },
  {
   "cell_type": "markdown",
   "id": "83cd8ff7",
   "metadata": {},
   "source": [
    "**Data Loading**"
   ]
  },
  {
   "cell_type": "code",
   "execution_count": 4,
   "id": "c0405731",
   "metadata": {
    "execution": {
     "iopub.execute_input": "2025-08-25T23:11:50.216264Z",
     "iopub.status.busy": "2025-08-25T23:11:50.216022Z",
     "iopub.status.idle": "2025-08-25T23:11:50.275956Z",
     "shell.execute_reply": "2025-08-25T23:11:50.275240Z"
    }
   },
   "outputs": [
    {
     "name": "stdout",
     "output_type": "stream",
     "text": [
      "df_pca shape: (1181, 13)\n",
      "player_features_cleaned shape: (2065, 81)\n",
      "df_clean shape: (1181, 81)\n"
     ]
    }
   ],
   "source": [
    "df_pca = pd.read_csv('df_pca.csv', index_col=0)\n",
    "print(\"df_pca shape:\", df_pca.shape)\n",
    "\n",
    "df_full = pd.read_csv('player_features_cleaned.csv')\n",
    "print(\"player_features_cleaned shape:\", df_full.shape)\n",
    "\n",
    "df_clean = pd.read_csv('df_clean.csv')\n",
    "print(\"df_clean shape:\", df_clean.shape)"
   ]
  },
  {
   "cell_type": "code",
   "execution_count": 5,
   "id": "5eb7ff51",
   "metadata": {
    "execution": {
     "iopub.execute_input": "2025-08-25T23:11:50.278367Z",
     "iopub.status.busy": "2025-08-25T23:11:50.278207Z",
     "iopub.status.idle": "2025-08-25T23:11:50.287150Z",
     "shell.execute_reply": "2025-08-25T23:11:50.286487Z"
    }
   },
   "outputs": [
    {
     "name": "stdout",
     "output_type": "stream",
     "text": [
      "df_pca head:\n",
      "        PC1       PC2       PC3       PC4       PC5       PC6       PC7  \\\n",
      "0  3.509560  2.780090  3.381577  3.218861  0.588072  0.894776  1.527690   \n",
      "1  4.077684  1.900139 -0.670734 -1.338253  1.016862 -2.482131  1.413174   \n",
      "2  4.732069 -2.866113 -2.160479 -0.589758  0.265579  0.102239 -1.466358   \n",
      "3  0.497687 -0.603027  4.028079  0.818451 -0.974695 -0.469580  1.192932   \n",
      "4 -0.014646 -4.686019 -1.805210 -2.223939 -0.614716 -0.003659  0.318557   \n",
      "\n",
      "        PC8       PC9      PC10      PC11  player_number_ind      player_ind  \n",
      "0 -0.610040  0.145530 -0.045163  0.762587                  4   Kayla Hoohuli  \n",
      "1  0.839239 -0.094876  1.287278  0.319168                  5   Tiahana Mills  \n",
      "2 -0.382812  1.165961 -1.022200  0.408988                 24  Crystal Porter  \n",
      "3  0.008558  0.285785 -0.723407 -0.837296                 31     Emily Weber  \n",
      "4 -1.028790  0.609136 -0.160478 -1.178705                 20   Jasmine Mungo  \n"
     ]
    }
   ],
   "source": [
    "print(\"df_pca head:\")\n",
    "print(df_pca.head())"
   ]
  },
  {
   "cell_type": "code",
   "execution_count": 6,
   "id": "c53407b8",
   "metadata": {
    "execution": {
     "iopub.execute_input": "2025-08-25T23:11:50.289718Z",
     "iopub.status.busy": "2025-08-25T23:11:50.289576Z",
     "iopub.status.idle": "2025-08-25T23:11:50.293200Z",
     "shell.execute_reply": "2025-08-25T23:11:50.292672Z"
    }
   },
   "outputs": [],
   "source": [
    "# pull the PC columns into a NumPy array\n",
    "pc_cols   = [c for c in df_pca.columns if c.startswith('PC')]\n",
    "X_cluster = df_pca[pc_cols].values\n"
   ]
  },
  {
   "cell_type": "code",
   "execution_count": 7,
   "id": "7272c30a",
   "metadata": {
    "execution": {
     "iopub.execute_input": "2025-08-25T23:11:50.295338Z",
     "iopub.status.busy": "2025-08-25T23:11:50.295192Z",
     "iopub.status.idle": "2025-08-25T23:11:50.298874Z",
     "shell.execute_reply": "2025-08-25T23:11:50.298336Z"
    }
   },
   "outputs": [
    {
     "name": "stdout",
     "output_type": "stream",
     "text": [
      "Index(['college', 'season', 'player_number_ind', 'player_ind', 'gp_ind',\n",
      "       'gs_ind', 'minutes_tot_ind', 'scoring_pts_ind', 'rebounds_tot_ind',\n",
      "       'ast_ind', 'stl_ind', 'blk_ind', 'to_ind', 'pts_per40', 'reb_per40',\n",
      "       'ast_per40', 'stl_per40', 'blk_per40', 'to_per40', 'eFG_pct', 'TS_pct',\n",
      "       'USG_pct', 'ORB_pct', 'DRB_pct', 'AST_pct', 'AST_per_TO',\n",
      "       '3pt_3pt_pct_ind', 'three_per40', 'threeA_per40', 'three_per100',\n",
      "       'threeA_rate', 'DRCR', 'STL_TO_ratio', 'def_stops_per100', 'DPMR',\n",
      "       'TUSG_pct', 'Gravity', 'PPT', 'Spacing', 'Assist_to_Usage', 'APC',\n",
      "       'PEF', 'OEFF', 'TOV_pct', 'SEM', 'PEI', 'BoxCreation', 'OLI', 'IPM',\n",
      "       'threeA_per100', '2pt_pct', 'FTr', 'PPP', 'possessions',\n",
      "       'scoring_pts_per100', 'ast_per100', 'rebounds_tot_per100', 'stl_per100',\n",
      "       'blk_per100', 'to_per100', 'mins_per_game', 'pts_per_game',\n",
      "       'ast_per_game', 'reb_per_game', 'stl_per_game', 'blk_per_game',\n",
      "       'to_per_game', 'scoring_pts_share', 'ast_share', 'rebounds_tot_share',\n",
      "       'stl_share', 'blk_share', 'to_share', 'team_TS_pct', 'TS_diff',\n",
      "       'ast_per_fgm', 'tov_rate', 'game_score', 'game_score_per40',\n",
      "       'min_share', 'player_id'],\n",
      "      dtype='object')\n"
     ]
    }
   ],
   "source": [
    "print(df_clean.columns)"
   ]
  },
  {
   "cell_type": "markdown",
   "id": "44a12939",
   "metadata": {},
   "source": [
    "**K-MEANS CLUSTERING**\n",
    "\n"
   ]
  },
  {
   "cell_type": "code",
   "execution_count": 8,
   "id": "2f3c4298",
   "metadata": {
    "execution": {
     "iopub.execute_input": "2025-08-25T23:11:50.301014Z",
     "iopub.status.busy": "2025-08-25T23:11:50.300849Z",
     "iopub.status.idle": "2025-08-25T23:11:57.851952Z",
     "shell.execute_reply": "2025-08-25T23:11:57.851047Z"
    }
   },
   "outputs": [
    {
     "name": "stdout",
     "output_type": "stream",
     "text": [
      "Best k by silhouette score: 6 with score 0.1378\n",
      "Saved best_k and metrics to: /vol/bitbucket/sn1624/data-driven-framework-for-athlete-profiling/artifacts/run_20250826_001058/selection.json -> best_k: 6\n"
     ]
    }
   ],
   "source": [
    "# K-Means Elbow, Silhouette, Davies–Bouldin & Calinski–Harabasz Sweep\n",
    "\n",
    "ks = list(range(6, 30))    \n",
    "inertias = []\n",
    "sil_scores = []\n",
    "db_scores = []\n",
    "ch_scores = []\n",
    "\n",
    "for k in ks:\n",
    "    km = KMeans(n_clusters=k, random_state=42, n_init=10)\n",
    "    labels_k = km.fit_predict(X_cluster)\n",
    "    \n",
    "    # Inertia\n",
    "    inertias.append(km.inertia_)\n",
    "    \n",
    "    # Guards for metrics that require at least 2 non-empty clusters\n",
    "    if len(np.unique(labels_k)) > 1:\n",
    "        sil = silhouette_score(X_cluster, labels_k)\n",
    "        db  = davies_bouldin_score(X_cluster, labels_k)\n",
    "        ch  = calinski_harabasz_score(X_cluster, labels_k)\n",
    "    else:\n",
    "        sil, db, ch = np.nan, np.nan, np.nan\n",
    "    \n",
    "    sil_scores.append(sil)\n",
    "    db_scores.append(db)\n",
    "    ch_scores.append(ch)\n",
    "\n",
    "# Elbow plot (save)\n",
    "plt.figure(figsize=(6,4))\n",
    "plt.plot(ks, inertias, marker='o')\n",
    "plt.xlabel(\"k\")\n",
    "plt.ylabel(\"Inertia\")\n",
    "plt.title(\"K-Means Elbow\")\n",
    "plt.tight_layout()\n",
    "plt.savefig(PATHS[\"elbow_plot\"], dpi=144)\n",
    "plt.close()\n",
    "\n",
    "# Silhouette plot (save)\n",
    "plt.figure(figsize=(6,4))\n",
    "plt.plot(ks, sil_scores, marker='o')\n",
    "plt.xlabel(\"k\")\n",
    "plt.ylabel(\"Silhouette\")\n",
    "plt.title(\"K-Means Silhouette vs. k\")\n",
    "plt.tight_layout()\n",
    "plt.savefig(PATHS[\"silhouette_plot\"], dpi=144)\n",
    "plt.close()\n",
    "\n",
    "# Davies–Bouldin plot (save) - lower is better\n",
    "plt.figure(figsize=(6,4))\n",
    "plt.plot(ks, db_scores, marker='o')\n",
    "plt.xlabel(\"k\")\n",
    "plt.ylabel(\"Davies–Bouldin Index (↓)\")\n",
    "plt.title(\"Davies–Bouldin vs. k\")\n",
    "plt.tight_layout()\n",
    "plt.savefig(PATHS[\"db_plot\"], dpi=144)\n",
    "plt.close()\n",
    "\n",
    "# Calinski–Harabasz plot (save) - higher is better\n",
    "plt.figure(figsize=(6,4))\n",
    "plt.plot(ks, ch_scores, marker='o')\n",
    "plt.xlabel(\"k\")\n",
    "plt.ylabel(\"Calinski–Harabasz (↑)\")\n",
    "plt.title(\"Calinski–Harabasz vs. k\")\n",
    "plt.tight_layout()\n",
    "plt.savefig(PATHS[\"ch_plot\"], dpi=144)\n",
    "plt.close()\n",
    "\n",
    "# Choose best_k by silhouette\n",
    "best_k = ks[int(np.nanargmax(sil_scores))]\n",
    "print(f\"Best k by silhouette score: {best_k} with score {np.nanmax(sil_scores):.4f}\")\n",
    "\n",
    "# Persist selection and (optionally) metric snapshots\n",
    "selected = load_json(PATHS[\"selection\"], default={})\n",
    "selected[\"best_k\"] = int(best_k)\n",
    "selected[\"metrics\"] = {\n",
    "    \"k\": ks,\n",
    "    \"inertia\": inertias,\n",
    "    \"silhouette\": sil_scores,\n",
    "    \"davies_bouldin\": db_scores,\n",
    "    \"calinski_harabasz\": ch_scores,\n",
    "    \"plots\": {\n",
    "        \"elbow\": str(PATHS[\"elbow_plot\"]),\n",
    "        \"silhouette\": str(PATHS[\"silhouette_plot\"]),\n",
    "        \"davies_bouldin\": str(PATHS[\"db_plot\"]),\n",
    "        \"calinski_harabasz\": str(PATHS[\"ch_plot\"]),\n",
    "    }\n",
    "}\n",
    "save_json(selected, PATHS[\"selection\"])\n",
    "print(\"Saved best_k and metrics to:\", PATHS[\"selection\"], \"-> best_k:\", selected[\"best_k\"])\n",
    "\n",
    "# avoid accidental reuse of a stale 'labels'\n",
    "try:\n",
    "    del labels\n",
    "except NameError:\n",
    "    pass\n"
   ]
  },
  {
   "cell_type": "code",
   "execution_count": 9,
   "id": "f8b75f7c",
   "metadata": {
    "execution": {
     "iopub.execute_input": "2025-08-25T23:11:57.853776Z",
     "iopub.status.busy": "2025-08-25T23:11:57.853608Z",
     "iopub.status.idle": "2025-08-25T23:12:00.576314Z",
     "shell.execute_reply": "2025-08-25T23:12:00.575699Z"
    }
   },
   "outputs": [
    {
     "name": "stdout",
     "output_type": "stream",
     "text": [
      "6\n"
     ]
    },
    {
     "name": "stdout",
     "output_type": "stream",
     "text": [
      "Average ARI across 20 runs: 0.926\n",
      "Min ARI: 0.754, Max ARI: 1.000\n"
     ]
    }
   ],
   "source": [
    "# Stability analysis\n",
    "\n",
    "k = best_k  # use your chosen k\n",
    "print(k)\n",
    "n_runs = 20\n",
    "labels_list = []\n",
    "\n",
    "for seed in range(n_runs):\n",
    "    km = KMeans(n_clusters=k, random_state=seed, n_init=10).fit(X_cluster)\n",
    "    labels_list.append(km.labels_)\n",
    "\n",
    "# Compare all pairs of clusterings using Adjusted Rand Index\n",
    "stability_scores = []\n",
    "for i in range(n_runs):\n",
    "    for j in range(i+1, n_runs):\n",
    "        ari = adjusted_rand_score(labels_list[i], labels_list[j])\n",
    "        stability_scores.append(ari)\n",
    "\n",
    "#AVG ARI CLOSE TO 1 = GOOD\n",
    "print(f\"Average ARI across {n_runs} runs: {np.mean(stability_scores):.3f}\")\n",
    "print(f\"Min ARI: {np.min(stability_scores):.3f}, Max ARI: {np.max(stability_scores):.3f}\")\n"
   ]
  },
  {
   "cell_type": "code",
   "execution_count": 10,
   "id": "96318e12",
   "metadata": {
    "execution": {
     "iopub.execute_input": "2025-08-25T23:12:00.578249Z",
     "iopub.status.busy": "2025-08-25T23:12:00.577917Z",
     "iopub.status.idle": "2025-08-25T23:12:00.983297Z",
     "shell.execute_reply": "2025-08-25T23:12:00.982784Z"
    }
   },
   "outputs": [
    {
     "name": "stdout",
     "output_type": "stream",
     "text": [
      "k=6, silhouette = 0.138\n",
      "Centroids:\n",
      "         pts_per40  eFG_pct  AST_per_TO  reb_per40  stl_per40  blk_per40\n",
      "cluster                                                                 \n",
      "0            -0.07     0.13       -0.78       0.93      -0.33       0.82\n",
      "1             0.49     0.40        0.03      -0.63      -0.03      -0.45\n",
      "2            -0.88    -0.08        2.11      -0.56       0.52      -0.52\n",
      "3             0.88     0.31       -0.04       0.79       0.42       0.44\n",
      "4            -1.05    -1.04        0.01      -0.52       0.07      -0.48\n",
      "5            -0.41    -0.17       -0.07      -0.51      -0.41      -0.23\n"
     ]
    },
    {
     "data": {
      "image/png": "[encoded data removed]",
      "text/plain": [
       "<Figure size 600x500 with 1 Axes>"
      ]
     },
     "metadata": {},
     "output_type": "display_data"
    },
    {
     "name": "stdout",
     "output_type": "stream",
     "text": [
      "Saved model to: /vol/bitbucket/sn1624/data-driven-framework-for-athlete-profiling/artifacts/run_20250826_001058/kmeans_model.joblib\n",
      "Saved: /vol/bitbucket/sn1624/data-driven-framework-for-athlete-profiling/artifacts/run_20250826_001058/cluster_summary.json\n"
     ]
    }
   ],
   "source": [
    "# K-Means Clustering\n",
    "\n",
    "# make sure we have the PC matrix\n",
    "X_cluster = df_pca[pc_cols].values\n",
    "col = f'km{best_k}_cluster'\n",
    "\n",
    "# Fit *fresh* at best_k\n",
    "kmeans_best = KMeans(n_clusters=int(best_k), random_state=42, n_init=10)\n",
    "labels_best = kmeans_best.fit_predict(X_cluster)\n",
    "\n",
    "# Attach labels to both dataframes\n",
    "df_pca[col]   = labels_best\n",
    "df_clean[col] = labels_best\n",
    "\n",
    "# Silhouette for the chosen model\n",
    "sil_best = silhouette_score(X_cluster, labels_best)\n",
    "print(f\"k={best_k}, silhouette = {sil_best:.3f}\")\n",
    "\n",
    "# Basic centroids on key stats (optional)\n",
    "key_stats = ['pts_per40','eFG_pct','AST_per_TO','reb_per40','stl_per40','blk_per40']\n",
    "cent = (\n",
    "    df_clean.groupby(col)[key_stats]\n",
    "    .mean()\n",
    "    .round(2)\n",
    "    .rename_axis('cluster')\n",
    ")\n",
    "print(\"Centroids:\")\n",
    "print(cent.to_string())\n",
    "\n",
    "# Scatter in PC1–PC2 (use the correct labels)\n",
    "plt.figure(figsize=(6,5))\n",
    "sns.scatterplot(\n",
    "    x=df_pca['PC1'].values,\n",
    "    y=df_pca['PC2'].values,\n",
    "    hue=labels_best,                 # <-- use labels_best\n",
    "    palette='tab10',\n",
    "    s=30,\n",
    "    alpha=0.7\n",
    ")\n",
    "plt.title(f\"K-Means (k={best_k}) in PC1–PC2 Space\")\n",
    "plt.xlabel(\"PC1\")\n",
    "plt.ylabel(\"PC2\")\n",
    "plt.legend(title=col, bbox_to_anchor=(1,1))\n",
    "plt.tight_layout()\n",
    "plt.show()\n",
    "\n",
    "# Save the model\n",
    "joblib.dump(kmeans_best, PATHS[\"model_file\"])\n",
    "print(\"Saved model to:\", PATHS[\"model_file\"])\n",
    "\n",
    "# Save a concise summary JSON\n",
    "summary = load_json(PATHS[\"cluster_summary\"], default={})\n",
    "summary.update({\n",
    "    \"selected\": {\n",
    "        \"n_clusters\": int(best_k),\n",
    "        \"pca_components\": int(load_json(PATHS[\"selection\"]).get(\"n_pca\", 0))\n",
    "    },\n",
    "    \"scores\": {\n",
    "        \"silhouette\": float(sil_best)\n",
    "    },\n",
    "    \"cluster_sizes\": {str(i): int((labels_best == i).sum())\n",
    "                      for i in np.unique(labels_best)}\n",
    "})\n",
    "save_json(summary, PATHS[\"cluster_summary\"])\n",
    "print(\"Saved:\", PATHS[\"cluster_summary\"])\n"
   ]
  },
  {
   "cell_type": "markdown",
   "id": "ebb48686",
   "metadata": {},
   "source": [
    "**ARCHETYPE MATCHING**"
   ]
  },
  {
   "cell_type": "code",
   "execution_count": 11,
   "id": "a965cb52",
   "metadata": {
    "execution": {
     "iopub.execute_input": "2025-08-25T23:12:00.985023Z",
     "iopub.status.busy": "2025-08-25T23:12:00.984729Z",
     "iopub.status.idle": "2025-08-25T23:12:00.995604Z",
     "shell.execute_reply": "2025-08-25T23:12:00.995164Z"
    }
   },
   "outputs": [
    {
     "name": "stdout",
     "output_type": "stream",
     "text": [
      "Loaded 50 archetypes from ../data/archetypes.json\n"
     ]
    }
   ],
   "source": [
    "# Load basketball archetypes from JSON file\n",
    "def load_archetypes_from_json(path=\"archetypes.json\", strict=False):\n",
    "    \"\"\"\n",
    "    Load archetypes from JSON into a dict[str, list[(metric, sign)]].\n",
    "    - Strips whitespace from metric names (fixes typos like 'three_per100 ').\n",
    "    - Coerces `sign` to int and checks it is in {-1, 1}.\n",
    "    - If strict=True, raises on problems; else collects warnings.\n",
    "    \"\"\"\n",
    "    with open(path, \"r\", encoding=\"utf-8\") as f:\n",
    "        raw = json.load(f)\n",
    "\n",
    "    loaded = {}\n",
    "    warnings = []\n",
    "\n",
    "    for name, pairs in raw.items():\n",
    "        cleaned_pairs = []\n",
    "        for i, pair in enumerate(pairs):\n",
    "            if not isinstance(pair, (list, tuple)) or len(pair) != 2:\n",
    "                msg = f\"[{name}] pair {i} is not [metric, sign]: {pair}\"\n",
    "                if strict:\n",
    "                    raise ValueError(msg)\n",
    "                warnings.append(msg)\n",
    "                continue\n",
    "\n",
    "            metric = str(pair[0]).strip()\n",
    "            try:\n",
    "                sign = int(pair[1])\n",
    "            except Exception:\n",
    "                msg = f\"[{name}] sign not int for metric '{metric}': {pair[1]}\"\n",
    "                if strict:\n",
    "                    raise ValueError(msg)\n",
    "                warnings.append(msg)\n",
    "                continue\n",
    "\n",
    "            if sign not in (-1, 1):\n",
    "                msg = f\"[{name}] sign must be -1 or 1 for metric '{metric}', got {sign}\"\n",
    "                if strict:\n",
    "                    raise ValueError(msg)\n",
    "                warnings.append(msg)\n",
    "                # clamp to nearest valid\n",
    "                sign = 1 if sign > 0 else -1\n",
    "\n",
    "            cleaned_pairs.append((metric, sign))\n",
    "        loaded[name] = cleaned_pairs\n",
    "\n",
    "    if warnings:\n",
    "        print(\"Warnings while loading archetypes:\")\n",
    "        for w in warnings:\n",
    "            print(\" -\", w)\n",
    "    print(f\"Loaded {len(loaded)} archetypes from {path}\")\n",
    "    return loaded\n",
    "\n",
    "# Load from disk -> Python dict with tuples\n",
    "archetypes = load_archetypes_from_json(\"../data/archetypes.json\")\n"
   ]
  },
  {
   "cell_type": "code",
   "execution_count": 12,
   "id": "0fa4803e",
   "metadata": {
    "execution": {
     "iopub.execute_input": "2025-08-25T23:12:00.997683Z",
     "iopub.status.busy": "2025-08-25T23:12:00.997538Z",
     "iopub.status.idle": "2025-08-25T23:12:01.034256Z",
     "shell.execute_reply": "2025-08-25T23:12:01.033565Z"
    }
   },
   "outputs": [
    {
     "name": "stdout",
     "output_type": "stream",
     "text": [
      "Best total score: 6.314274963622937\n",
      "Cluster -> Archetype\n",
      "0: Putback Specialist\n",
      "1: Deep Range Specialist\n",
      "2: Two-Way Guard\n",
      "3: Rim Protector / Rebounding Big\n",
      "4: Non-Impact Role Player\n",
      "5: Floor General\n",
      "\n",
      "Confidence margins:\n",
      "0: 0.179\n",
      "1: 0.278\n",
      "2: 0.729\n",
      "3: 0.047\n",
      "4: 0.796\n",
      "5: 0.210\n"
     ]
    }
   ],
   "source": [
    "cluster_col   = f'km{best_k}_cluster'\n",
    "cluster_labels = np.sort(df_clean[cluster_col].unique())\n",
    "\n",
    "# Collect the metrics we actually need and z-score them (vectorized)\n",
    "all_metrics = sorted({m for lst in archetypes.values() for (m, _) in lst})\n",
    "present_metrics = [m for m in all_metrics if m in df_clean.columns]\n",
    "\n",
    "X = df_clean[present_metrics].astype(float).copy()\n",
    "col_means = X.mean(axis=0, skipna=True)\n",
    "X = X.fillna(col_means)\n",
    "col_stds = X.std(axis=0, ddof=0).replace(0.0, 1.0)  # avoid div-by-zero\n",
    "Z = (X - col_means) / col_stds  # global z-score\n",
    "\n",
    "# Cluster centroids (mean z-score per metric)\n",
    "# Use the series version of groupby to avoid adding cluster column to Z\n",
    "cluster_centroids = Z.groupby(df_clean[cluster_col]).mean()   # shape: (n_clusters, n_metrics)\n",
    "cluster_centroids = cluster_centroids.reindex(index=cluster_labels)\n",
    "\n",
    "# Build a rectangular score matrix for all clusters × all archetypes (vectorized)\n",
    "def archetype_weights(n, base=0.5):\n",
    "    # decreasing geometric weights from most-important → least-important\n",
    "    raw = np.array([base**i for i in range(n)][::-1], dtype=float)\n",
    "    return raw / raw.sum()\n",
    "\n",
    "arch_names = list(archetypes.keys())\n",
    "score_matrix = np.full((len(cluster_labels), len(arch_names)), -1e3, dtype=float)  # default if no overlap\n",
    "\n",
    "metrics_cols = cluster_centroids.columns\n",
    "\n",
    "for j, arch in enumerate(arch_names):\n",
    "    feats = [m for m, _ in archetypes[arch] if m in metrics_cols]\n",
    "    if not feats:\n",
    "        continue\n",
    "    # indices in the archetype's list that actually exist\n",
    "    idxs_in_arch = [i for i, (m, _) in enumerate(archetypes[arch]) if m in metrics_cols]\n",
    "    # weight mask (renormalized over present features)\n",
    "    w_full = archetype_weights(len(archetypes[arch]))\n",
    "    w = w_full[idxs_in_arch]\n",
    "    w = w / w.sum()\n",
    "\n",
    "    # signs aligned to feats\n",
    "    signs = np.array([s for (m, s) in archetypes[arch] if m in metrics_cols], dtype=float)\n",
    "    # Z-scores for all clusters over these feats\n",
    "    C = cluster_centroids.loc[:, feats].to_numpy()  # shape: (n_clusters, len(feats))\n",
    "    # weighted sum per cluster\n",
    "    # multiply by sign (direction) then dot with weights\n",
    "    scores = (C * signs) @ w\n",
    "    score_matrix[:, j] = scores\n",
    "\n",
    "# Solve one rectangular assignment: each cluster maps to a unique archetype\n",
    "# We want to maximize score, so minimize negative score\n",
    "cost = -score_matrix\n",
    "row_ind, col_ind = linear_sum_assignment(cost)  # works with rectangular matrices\n",
    "\n",
    "best_mapping = {int(cluster_labels[r]): arch_names[c] for r, c in zip(row_ind, col_ind)}\n",
    "best_total   = score_matrix[row_ind, col_ind].sum()\n",
    "\n",
    "print(\"Best total score:\", best_total)\n",
    "print(\"Cluster -> Archetype\")\n",
    "for cl in cluster_labels:\n",
    "    arch = best_mapping.get(int(cl), None)\n",
    "    print(f\"{cl}: {arch}\")\n",
    "\n",
    "# Report confidence (row-wise margin between best and second-best)\n",
    "row_best = score_matrix.max(axis=1)\n",
    "row_second = np.partition(score_matrix, -2, axis=1)[:, -2]\n",
    "confidence = {int(cluster_labels[i]): float(row_best[i] - row_second[i]) for i in range(len(cluster_labels))}\n",
    "\n",
    "print(\"\\nConfidence margins:\")\n",
    "for cl in cluster_labels:\n",
    "    print(f\"{cl}: {confidence[int(cl)]:.3f}\")\n"
   ]
  },
  {
   "cell_type": "code",
   "execution_count": 13,
   "id": "7b3b5f01",
   "metadata": {
    "execution": {
     "iopub.execute_input": "2025-08-25T23:12:01.036570Z",
     "iopub.status.busy": "2025-08-25T23:12:01.036419Z",
     "iopub.status.idle": "2025-08-25T23:12:01.064237Z",
     "shell.execute_reply": "2025-08-25T23:12:01.063581Z"
    }
   },
   "outputs": [
    {
     "name": "stdout",
     "output_type": "stream",
     "text": [
      "\n",
      "Cluster -> Archetype (with match % of a perfect 1σ fit):\n"
     ]
    },
    {
     "data": {
      "text/html": [
       "<div>\n",
       "<style scoped>\n",
       "    .dataframe tbody tr th:only-of-type {\n",
       "        vertical-align: middle;\n",
       "    }\n",
       "\n",
       "    .dataframe tbody tr th {\n",
       "        vertical-align: top;\n",
       "    }\n",
       "\n",
       "    .dataframe thead th {\n",
       "        text-align: right;\n",
       "    }\n",
       "</style>\n",
       "<table border=\"1\" class=\"dataframe\">\n",
       "  <thead>\n",
       "    <tr style=\"text-align: right;\">\n",
       "      <th></th>\n",
       "      <th>cluster</th>\n",
       "      <th>archetype</th>\n",
       "      <th>raw_score</th>\n",
       "      <th>match_%</th>\n",
       "    </tr>\n",
       "  </thead>\n",
       "  <tbody>\n",
       "    <tr>\n",
       "      <th>0</th>\n",
       "      <td>0</td>\n",
       "      <td>Putback Specialist</td>\n",
       "      <td>1.115382</td>\n",
       "      <td>100.0%</td>\n",
       "    </tr>\n",
       "    <tr>\n",
       "      <th>1</th>\n",
       "      <td>1</td>\n",
       "      <td>Deep Range Specialist</td>\n",
       "      <td>0.819462</td>\n",
       "      <td>81.9%</td>\n",
       "    </tr>\n",
       "    <tr>\n",
       "      <th>2</th>\n",
       "      <td>2</td>\n",
       "      <td>Two-Way Guard</td>\n",
       "      <td>1.387797</td>\n",
       "      <td>100.0%</td>\n",
       "    </tr>\n",
       "    <tr>\n",
       "      <th>3</th>\n",
       "      <td>3</td>\n",
       "      <td>Rim Protector / Rebounding Big</td>\n",
       "      <td>1.098588</td>\n",
       "      <td>100.0%</td>\n",
       "    </tr>\n",
       "    <tr>\n",
       "      <th>4</th>\n",
       "      <td>4</td>\n",
       "      <td>Non-Impact Role Player</td>\n",
       "      <td>1.031587</td>\n",
       "      <td>100.0%</td>\n",
       "    </tr>\n",
       "    <tr>\n",
       "      <th>5</th>\n",
       "      <td>5</td>\n",
       "      <td>Floor General</td>\n",
       "      <td>0.861459</td>\n",
       "      <td>86.1%</td>\n",
       "    </tr>\n",
       "  </tbody>\n",
       "</table>\n",
       "</div>"
      ],
      "text/plain": [
       "   cluster                       archetype  raw_score match_%\n",
       "0        0              Putback Specialist   1.115382  100.0%\n",
       "1        1           Deep Range Specialist   0.819462   81.9%\n",
       "2        2                   Two-Way Guard   1.387797  100.0%\n",
       "3        3  Rim Protector / Rebounding Big   1.098588  100.0%\n",
       "4        4          Non-Impact Role Player   1.031587  100.0%\n",
       "5        5                   Floor General   0.861459   86.1%"
      ]
     },
     "metadata": {},
     "output_type": "display_data"
    },
    {
     "name": "stdout",
     "output_type": "stream",
     "text": [
      "Updated with archetypes: /vol/bitbucket/sn1624/data-driven-framework-for-athlete-profiling/artifacts/run_20250826_001058/cluster_summary.json\n"
     ]
    }
   ],
   "source": [
    "# Scoring Sytem 0-100%\n",
    "score_df = pd.DataFrame(score_matrix, index=cluster_labels, columns=arch_names)\n",
    "\n",
    "row_labels = list(score_df.index)\n",
    "col_labels = list(score_df.columns)\n",
    "\n",
    "assigned = []\n",
    "cluster_map=dict()\n",
    "for cl in row_labels:\n",
    "    icl = int(cl)\n",
    "    arch = best_mapping.get(icl)\n",
    "    if arch is None:\n",
    "        # belt-and-braces fallback if something slipped through\n",
    "        j = int(np.nanargmax(score_df.loc[cl].values))\n",
    "        arch = col_labels[j]\n",
    "        best_mapping[icl] = arch\n",
    "    raw = float(score_df.loc[cl, arch])\n",
    "    pct = float(np.clip(raw, 0.0, 1.0)) * 100.0\n",
    "    assigned.append({\n",
    "        \"cluster\":   icl,\n",
    "        \"archetype\": arch,\n",
    "        \"raw_score\": raw,\n",
    "        \"match_%\":   f\"{pct:.1f}%\"\n",
    "    })\n",
    "    cluster_map[icl] = arch\n",
    "\n",
    "print(\"\\nCluster -> Archetype (with match % of a perfect 1σ fit):\")\n",
    "display(pd.DataFrame(assigned).sort_values(\"cluster\"))\n",
    "\n",
    "# Update Cluster Summary\n",
    "# Load the saved summary JSON\n",
    "summary = load_json(PATHS[\"cluster_summary\"], default={})\n",
    "\n",
    "# Replace cluster numbers in \"cluster_sizes\" with archetype names\n",
    "if \"cluster_sizes\" in summary:\n",
    "    summary[\"cluster_sizes\"] = {\n",
    "        cluster_map.get(int(k), f\"Cluster {k}\"): v\n",
    "        for k, v in summary[\"cluster_sizes\"].items()\n",
    "    }\n",
    "\n",
    "# Save updated summary\n",
    "save_json(summary, PATHS[\"cluster_summary\"])\n",
    "print(\"Updated with archetypes:\", PATHS[\"cluster_summary\"])\n"
   ]
  },
  {
   "cell_type": "code",
   "execution_count": 14,
   "id": "f8593c48",
   "metadata": {
    "execution": {
     "iopub.execute_input": "2025-08-25T23:12:01.066448Z",
     "iopub.status.busy": "2025-08-25T23:12:01.066289Z",
     "iopub.status.idle": "2025-08-25T23:12:01.181351Z",
     "shell.execute_reply": "2025-08-25T23:12:01.180472Z"
    }
   },
   "outputs": [
    {
     "name": "stdout",
     "output_type": "stream",
     "text": [
      "\n",
      "Sample players with archetypes:\n"
     ]
    },
    {
     "data": {
      "text/html": [
       "<div>\n",
       "<style scoped>\n",
       "    .dataframe tbody tr th:only-of-type {\n",
       "        vertical-align: middle;\n",
       "    }\n",
       "\n",
       "    .dataframe tbody tr th {\n",
       "        vertical-align: top;\n",
       "    }\n",
       "\n",
       "    .dataframe thead th {\n",
       "        text-align: right;\n",
       "    }\n",
       "</style>\n",
       "<table border=\"1\" class=\"dataframe\">\n",
       "  <thead>\n",
       "    <tr style=\"text-align: right;\">\n",
       "      <th></th>\n",
       "      <th>player_ind</th>\n",
       "      <th>season</th>\n",
       "      <th>cluster</th>\n",
       "      <th>Archetype</th>\n",
       "    </tr>\n",
       "  </thead>\n",
       "  <tbody>\n",
       "    <tr>\n",
       "      <th>0</th>\n",
       "      <td>Kayla Hoohuli</td>\n",
       "      <td>2014-15</td>\n",
       "      <td>1</td>\n",
       "      <td>Deep Range Specialist</td>\n",
       "    </tr>\n",
       "    <tr>\n",
       "      <th>1</th>\n",
       "      <td>Tiahana Mills</td>\n",
       "      <td>2014-15</td>\n",
       "      <td>3</td>\n",
       "      <td>Rim Protector / Rebounding Big</td>\n",
       "    </tr>\n",
       "    <tr>\n",
       "      <th>2</th>\n",
       "      <td>Crystal Porter</td>\n",
       "      <td>2014-15</td>\n",
       "      <td>3</td>\n",
       "      <td>Rim Protector / Rebounding Big</td>\n",
       "    </tr>\n",
       "    <tr>\n",
       "      <th>3</th>\n",
       "      <td>Emily Weber</td>\n",
       "      <td>2014-15</td>\n",
       "      <td>1</td>\n",
       "      <td>Deep Range Specialist</td>\n",
       "    </tr>\n",
       "    <tr>\n",
       "      <th>4</th>\n",
       "      <td>Jasmine Mungo</td>\n",
       "      <td>2014-15</td>\n",
       "      <td>0</td>\n",
       "      <td>Putback Specialist</td>\n",
       "    </tr>\n",
       "    <tr>\n",
       "      <th>5</th>\n",
       "      <td>Lauren D'Hont</td>\n",
       "      <td>2014-15</td>\n",
       "      <td>4</td>\n",
       "      <td>Non-Impact Role Player</td>\n",
       "    </tr>\n",
       "    <tr>\n",
       "      <th>6</th>\n",
       "      <td>Margret Halfdanardottir</td>\n",
       "      <td>2014-15</td>\n",
       "      <td>5</td>\n",
       "      <td>Floor General</td>\n",
       "    </tr>\n",
       "    <tr>\n",
       "      <th>7</th>\n",
       "      <td>Abby Schwenk</td>\n",
       "      <td>2014-15</td>\n",
       "      <td>5</td>\n",
       "      <td>Floor General</td>\n",
       "    </tr>\n",
       "    <tr>\n",
       "      <th>8</th>\n",
       "      <td>Laniere Coleman</td>\n",
       "      <td>2014-15</td>\n",
       "      <td>0</td>\n",
       "      <td>Putback Specialist</td>\n",
       "    </tr>\n",
       "    <tr>\n",
       "      <th>9</th>\n",
       "      <td>Tamara Miskovic</td>\n",
       "      <td>2014-15</td>\n",
       "      <td>4</td>\n",
       "      <td>Non-Impact Role Player</td>\n",
       "    </tr>\n",
       "  </tbody>\n",
       "</table>\n",
       "</div>"
      ],
      "text/plain": [
       "                player_ind   season  cluster                       Archetype\n",
       "0            Kayla Hoohuli  2014-15        1           Deep Range Specialist\n",
       "1            Tiahana Mills  2014-15        3  Rim Protector / Rebounding Big\n",
       "2           Crystal Porter  2014-15        3  Rim Protector / Rebounding Big\n",
       "3              Emily Weber  2014-15        1           Deep Range Specialist\n",
       "4            Jasmine Mungo  2014-15        0              Putback Specialist\n",
       "5            Lauren D'Hont  2014-15        4          Non-Impact Role Player\n",
       "6  Margret Halfdanardottir  2014-15        5                   Floor General\n",
       "7             Abby Schwenk  2014-15        5                   Floor General\n",
       "8          Laniere Coleman  2014-15        0              Putback Specialist\n",
       "9          Tamara Miskovic  2014-15        4          Non-Impact Role Player"
      ]
     },
     "metadata": {},
     "output_type": "display_data"
    }
   ],
   "source": [
    "# Add human-readable archetype per player\n",
    "cluster_col = \"cluster\" if \"cluster\" in df_clean.columns else f\"km{int(best_k)}_cluster\"\n",
    "df_clean[\"Archetype\"] = (\n",
    "    df_clean[cluster_col].astype(int).map(best_mapping).fillna(df_clean[cluster_col].astype(str))\n",
    ")\n",
    "df_clean[\"cluster\"] = df_clean[cluster_col].astype(int)  # ensure generic cluster column exists\n",
    "df_clean[\"Archetype\"] = df_clean[\"cluster\"].map(best_mapping).fillna(df_clean[\"cluster\"].astype(str))\n",
    "\n",
    "# Sample output\n",
    "print(\"\\nSample players with archetypes:\")\n",
    "display(\n",
    "    df_clean[[\"player_ind\", \"season\", \"cluster\", \"Archetype\"]]\n",
    "    .head(10)\n",
    ")\n",
    "\n",
    "df_clean.drop(columns=[\"km6_cluster\",'cluster'], inplace=True)\n",
    "\n",
    "# merge archetype onto df_full by season-specific player_id\n",
    "df_out=df_full.copy()\n",
    "df_out[\"player_id\"] = df_out[\"player_id\"].astype(int)\n",
    "df_clean[\"player_id\"] = df_clean[\"player_id\"].astype(int)\n",
    "df_out = df_out.merge(\n",
    "    df_clean[['player_id', 'Archetype']], \n",
    "    on='player_id',                        \n",
    "    how='right'                          \n",
    ")\n",
    "\n",
    "df_out.to_parquet(PATHS[\"processed_data\"])"
   ]
  }
 ],
 "metadata": {
  "kernelspec": {
   "display_name": ".venv",
   "language": "python",
   "name": "python3"
  },
  "language_info": {
   "codemirror_mode": {
    "name": "ipython",
    "version": 3
   },
   "file_extension": ".py",
   "mimetype": "text/x-python",
   "name": "python",
   "nbconvert_exporter": "python",
   "pygments_lexer": "ipython3",
   "version": "3.12.3"
  }
 },
 "nbformat": 4,
 "nbformat_minor": 5
}
