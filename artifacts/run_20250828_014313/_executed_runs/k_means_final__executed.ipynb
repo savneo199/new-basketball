{
 "cells": [
  {
   "cell_type": "code",
   "execution_count": 1,
   "id": "9eea2a78",
   "metadata": {
    "execution": {
     "iopub.execute_input": "2025-08-27T22:43:36.651844Z",
     "iopub.status.busy": "2025-08-27T22:43:36.651457Z",
     "iopub.status.idle": "2025-08-27T22:43:36.661829Z",
     "shell.execute_reply": "2025-08-27T22:43:36.659308Z"
    }
   },
   "outputs": [],
   "source": [
    "PIPELINE_CONTEXT = {\"_runtime_context_name\": \"PIPELINE_CONTEXT\", \"params\": {\"n_clusters\": \"auto\", \"n_clusters_min\": 6, \"n_clusters_max\": 50, \"n_clusters_criterion\": \"silhouette\", \"pca_components\": \"auto\", \"pca_variance\": 0.9, \"pca_max_components\": 50, \"random_state\": 42}, \"artifacts\": {\"dir\": \"/Users/savvasneofytou/Desktop/basketball/artifacts/run_20250828_014313\", \"processed_data\": \"/Users/savvasneofytou/Desktop/basketball/artifacts/run_20250828_014313/processed.parquet\", \"model_file\": \"/Users/savvasneofytou/Desktop/basketball/artifacts/run_20250828_014313/kmeans_model.joblib\", \"scaler_file\": \"/Users/savvasneofytou/Desktop/basketball/artifacts/run_20250828_014313/scaler.joblib\", \"pca_file\": \"/Users/savvasneofytou/Desktop/basketball/artifacts/run_20250828_014313/pca.joblib\", \"cluster_summary\": \"/Users/savvasneofytou/Desktop/basketball/artifacts/run_20250828_014313/cluster_summary.json\", \"elbow_plot\": \"/Users/savvasneofytou/Desktop/basketball/artifacts/run_20250828_014313/elbow_plot.png\", \"silhouette_plot\": \"/Users/savvasneofytou/Desktop/basketball/artifacts/run_20250828_014313/silhouette_plot.png\", \"db_plot\": \"/Users/savvasneofytou/Desktop/basketball/artifacts/run_20250828_014313/db_plot.png\", \"ch_plot\": \"/Users/savvasneofytou/Desktop/basketball/artifacts/run_20250828_014313/ch_plot.png\", \"selection\": \"/Users/savvasneofytou/Desktop/basketball/artifacts/run_20250828_014313/selection.json\"}, \"cwd\": \"/Users/savvasneofytou/Desktop/basketball/pipeline\", \"data_dir\": \"/Users/savvasneofytou/Desktop/basketball/data/output_by_college_clean\"}"
   ]
  },
  {
   "cell_type": "markdown",
   "id": "6cf82c80",
   "metadata": {},
   "source": [
    "**Pipeline Context**"
   ]
  },
  {
   "cell_type": "code",
   "execution_count": 2,
   "id": "b9c91704",
   "metadata": {
    "execution": {
     "iopub.execute_input": "2025-08-27T22:43:36.666534Z",
     "iopub.status.busy": "2025-08-27T22:43:36.666120Z",
     "iopub.status.idle": "2025-08-27T22:43:36.674238Z",
     "shell.execute_reply": "2025-08-27T22:43:36.673127Z"
    }
   },
   "outputs": [],
   "source": [
    "try:\n",
    "    ctx = PIPELINE_CONTEXT\n",
    "except NameError:\n",
    "    import os\n",
    "    ctx = {\n",
    "        \"params\": {},\n",
    "        \"artifacts\": {\n",
    "            \"dir\": \"artifacts\",\n",
    "            \"processed_data\": \"artifacts/processed.parquet\",\n",
    "            \"model_file\": \"artifacts/kmeans_model.joblib\",\n",
    "            \"scaler_file\": \"artifacts/scaler.joblib\",\n",
    "            \"pca_file\": \"artifacts/pca.joblib\",\n",
    "            \"cluster_summary\": \"artifacts/cluster_summary.json\",\n",
    "            \"elbow_plot\": \"artifacts/elbow_plot.png\",\n",
    "            \"silhouette_plot\": \"artifacts/silhouette_plot.png\",\n",
    "            \"db_plot\": \"artifacts/db_plot.png\",\n",
    "            \"ch_plot\": \"artifacts/ch_plot.png\",\n",
    "            \"selection\": \"artifacts/selection.json\",\n",
    "            \"features\": \"artifacts/features.json\",\n",
    "        },\n",
    "        \"data_dir\": \"data\",\n",
    "    }\n",
    "\n",
    "from pathlib import Path\n",
    "import json\n",
    "\n",
    "P = ctx.get(\"params\", {})\n",
    "PATHS = ctx.get(\"artifacts\", {})\n",
    "DATA_DIR = ctx.get(\"data_dir\", \"data\")\n",
    "Path(PATHS[\"dir\"]).mkdir(parents=True, exist_ok=True)\n",
    "\n",
    "def save_json(obj, path):\n",
    "    Path(path).parent.mkdir(parents=True, exist_ok=True)\n",
    "    with open(path, \"w\") as f:\n",
    "        json.dump(obj, f, indent=2, default=float)\n",
    "\n",
    "def load_json(path, default=None):\n",
    "    p = Path(path)\n",
    "    if p.exists():\n",
    "        return json.loads(p.read_text())\n",
    "    return {} if default is None else default\n"
   ]
  },
  {
   "cell_type": "markdown",
   "id": "ad005bb1",
   "metadata": {},
   "source": [
    "**Imports**\n"
   ]
  },
  {
   "cell_type": "code",
   "execution_count": 3,
   "id": "60b99fac",
   "metadata": {
    "execution": {
     "iopub.execute_input": "2025-08-27T22:43:36.679033Z",
     "iopub.status.busy": "2025-08-27T22:43:36.678621Z",
     "iopub.status.idle": "2025-08-27T22:43:40.773370Z",
     "shell.execute_reply": "2025-08-27T22:43:40.772266Z"
    }
   },
   "outputs": [
    {
     "name": "stderr",
     "output_type": "stream",
     "text": [
      "/Users/savvasneofytou/Desktop/basketball/.venv/lib/python3.13/site-packages/tqdm/auto.py:21: TqdmWarning: IProgress not found. Please update jupyter and ipywidgets. See https://ipywidgets.readthedocs.io/en/stable/user_install.html\n",
      "  from .autonotebook import tqdm as notebook_tqdm\n"
     ]
    }
   ],
   "source": [
    "import pandas as pd\n",
    "import numpy as np\n",
    "from sklearn.cluster import KMeans\n",
    "from sklearn.metrics import silhouette_score, davies_bouldin_score, calinski_harabasz_score, adjusted_rand_score\n",
    "import matplotlib.pyplot as plt\n",
    "import seaborn as sns\n",
    "from scipy.stats import zscore\n",
    "import itertools\n",
    "from scipy.optimize import linear_sum_assignment\n",
    "from tqdm.auto import tqdm\n",
    "import joblib\n",
    "import json"
   ]
  },
  {
   "cell_type": "markdown",
   "id": "83cd8ff7",
   "metadata": {},
   "source": [
    "**Data Loading**"
   ]
  },
  {
   "cell_type": "code",
   "execution_count": 4,
   "id": "c0405731",
   "metadata": {
    "execution": {
     "iopub.execute_input": "2025-08-27T22:43:40.777593Z",
     "iopub.status.busy": "2025-08-27T22:43:40.777012Z",
     "iopub.status.idle": "2025-08-27T22:43:40.859719Z",
     "shell.execute_reply": "2025-08-27T22:43:40.858358Z"
    }
   },
   "outputs": [
    {
     "name": "stdout",
     "output_type": "stream",
     "text": [
      "df_pca shape: (1226, 13)\n",
      "player_features_cleaned shape: (2130, 81)\n",
      "df_clean shape: (1226, 81)\n"
     ]
    }
   ],
   "source": [
    "df_pca = pd.read_csv('df_pca.csv', index_col=0)\n",
    "print(\"df_pca shape:\", df_pca.shape)\n",
    "\n",
    "df_full = pd.read_csv('player_features_cleaned.csv')\n",
    "print(\"player_features_cleaned shape:\", df_full.shape)\n",
    "\n",
    "df_clean = pd.read_csv('df_clean.csv')\n",
    "print(\"df_clean shape:\", df_clean.shape)"
   ]
  },
  {
   "cell_type": "code",
   "execution_count": 5,
   "id": "5eb7ff51",
   "metadata": {
    "execution": {
     "iopub.execute_input": "2025-08-27T22:43:40.862961Z",
     "iopub.status.busy": "2025-08-27T22:43:40.862701Z",
     "iopub.status.idle": "2025-08-27T22:43:40.872212Z",
     "shell.execute_reply": "2025-08-27T22:43:40.871311Z"
    }
   },
   "outputs": [
    {
     "name": "stdout",
     "output_type": "stream",
     "text": [
      "df_pca head:\n",
      "        PC1       PC2       PC3       PC4       PC5       PC6       PC7  \\\n",
      "0  6.526541 -3.872125  0.817565  0.291194 -2.089165  0.651317 -2.315732   \n",
      "1  5.206259  5.644737  0.389819  0.382700  3.113830  0.462240  0.369287   \n",
      "2  1.748806  4.562881 -1.618118  1.292488  2.827217 -0.168391  1.756015   \n",
      "3 -1.761627 -4.025482  1.055769 -1.220598 -1.014961 -0.034838  1.154448   \n",
      "4 -2.618402  2.079629  1.410651 -0.566772 -2.223100  2.342897  0.462861   \n",
      "\n",
      "        PC8       PC9      PC10  player_number_ind       player_ind  player_id  \n",
      "0 -0.361181  1.192803  0.868623                 35     Kayla Grimme          0  \n",
      "1 -0.495606  0.266081  0.210112                 15      Amani Tatum          1  \n",
      "2  1.224152 -0.429847  1.392651                  2      Gabby Cajou          2  \n",
      "3  2.071032 -1.458000 -0.346248                 30     Mikki Guiton          3  \n",
      "4 -0.055167  0.239847 -1.037189                 14  Taylor Williams          4  \n"
     ]
    }
   ],
   "source": [
    "print(\"df_pca head:\")\n",
    "print(df_pca.head())"
   ]
  },
  {
   "cell_type": "code",
   "execution_count": 6,
   "id": "c53407b8",
   "metadata": {
    "execution": {
     "iopub.execute_input": "2025-08-27T22:43:40.875617Z",
     "iopub.status.busy": "2025-08-27T22:43:40.875250Z",
     "iopub.status.idle": "2025-08-27T22:43:40.881711Z",
     "shell.execute_reply": "2025-08-27T22:43:40.880978Z"
    }
   },
   "outputs": [],
   "source": [
    "# pull the PC columns into a NumPy array\n",
    "pc_cols   = [c for c in df_pca.columns if c.startswith('PC')]\n",
    "X_cluster = df_pca[pc_cols].values\n"
   ]
  },
  {
   "cell_type": "code",
   "execution_count": 7,
   "id": "7272c30a",
   "metadata": {
    "execution": {
     "iopub.execute_input": "2025-08-27T22:43:40.884539Z",
     "iopub.status.busy": "2025-08-27T22:43:40.884089Z",
     "iopub.status.idle": "2025-08-27T22:43:40.889624Z",
     "shell.execute_reply": "2025-08-27T22:43:40.888606Z"
    }
   },
   "outputs": [
    {
     "name": "stdout",
     "output_type": "stream",
     "text": [
      "Index(['college', 'season', 'player_number_ind', 'player_ind', 'gp_ind',\n",
      "       'gs_ind', 'minutes_tot_ind', 'scoring_pts_ind', 'rebounds_tot_ind',\n",
      "       'ast_ind', 'stl_ind', 'blk_ind', 'to_ind', 'pts_per40', 'reb_per40',\n",
      "       'ast_per40', 'stl_per40', 'blk_per40', 'to_per40', 'eFG_pct', 'TS_pct',\n",
      "       'USG_pct', 'ORB_pct', 'DRB_pct', 'AST_pct', 'AST_per_TO',\n",
      "       '3pt_3pt_pct_ind', 'three_per40', 'threeA_per40', 'three_per100',\n",
      "       'threeA_rate', 'DRCR', 'STL_TO_ratio', 'def_stops_per100', 'DPMR',\n",
      "       'TUSG_pct', 'Gravity', 'PPT', 'Spacing', 'Assist_to_Usage', 'APC',\n",
      "       'PEF', 'OEFF', 'TOV_pct', 'SEM', 'PEI', 'BoxCreation', 'OLI', 'IPM',\n",
      "       'threeA_per100', '2pt_pct', 'FTr', 'PPP', 'possessions',\n",
      "       'scoring_pts_per100', 'ast_per100', 'rebounds_tot_per100', 'stl_per100',\n",
      "       'blk_per100', 'to_per100', 'mins_per_game', 'pts_per_game',\n",
      "       'ast_per_game', 'reb_per_game', 'stl_per_game', 'blk_per_game',\n",
      "       'to_per_game', 'scoring_pts_share', 'ast_share', 'rebounds_tot_share',\n",
      "       'stl_share', 'blk_share', 'to_share', 'team_TS_pct', 'TS_diff',\n",
      "       'ast_per_fgm', 'tov_rate', 'game_score', 'game_score_per40',\n",
      "       'min_share', 'player_id'],\n",
      "      dtype='object')\n"
     ]
    }
   ],
   "source": [
    "print(df_clean.columns)"
   ]
  },
  {
   "cell_type": "markdown",
   "id": "44a12939",
   "metadata": {},
   "source": [
    "**K-MEANS CLUSTERING**\n",
    "\n"
   ]
  },
  {
   "cell_type": "code",
   "execution_count": 8,
   "id": "2f3c4298",
   "metadata": {
    "execution": {
     "iopub.execute_input": "2025-08-27T22:43:40.894282Z",
     "iopub.status.busy": "2025-08-27T22:43:40.893899Z",
     "iopub.status.idle": "2025-08-27T22:43:45.993739Z",
     "shell.execute_reply": "2025-08-27T22:43:45.992879Z"
    }
   },
   "outputs": [
    {
     "name": "stdout",
     "output_type": "stream",
     "text": [
      "Best k by silhouette score: 6 with score 0.1426\n",
      "Saved best_k and metrics to: /Users/savvasneofytou/Desktop/basketball/artifacts/run_20250828_014313/selection.json -> best_k: 6\n"
     ]
    }
   ],
   "source": [
    "# K-Means Elbow, Silhouette, Davies–Bouldin & Calinski–Harabasz Sweep\n",
    "\n",
    "ks = list(range(6, 30))    \n",
    "inertias = []\n",
    "sil_scores = []\n",
    "db_scores = []\n",
    "ch_scores = []\n",
    "\n",
    "for k in ks:\n",
    "    km = KMeans(n_clusters=k, random_state=42, n_init=10)\n",
    "    labels_k = km.fit_predict(X_cluster)\n",
    "    \n",
    "    # Inertia\n",
    "    inertias.append(km.inertia_)\n",
    "    \n",
    "    # Guards for metrics that require at least 2 non-empty clusters\n",
    "    if len(np.unique(labels_k)) > 1:\n",
    "        sil = silhouette_score(X_cluster, labels_k)\n",
    "        db  = davies_bouldin_score(X_cluster, labels_k)\n",
    "        ch  = calinski_harabasz_score(X_cluster, labels_k)\n",
    "    else:\n",
    "        sil, db, ch = np.nan, np.nan, np.nan\n",
    "    \n",
    "    sil_scores.append(sil)\n",
    "    db_scores.append(db)\n",
    "    ch_scores.append(ch)\n",
    "\n",
    "# Elbow plot (save)\n",
    "plt.figure(figsize=(6,4))\n",
    "plt.plot(ks, inertias, marker='o')\n",
    "plt.xlabel(\"k\")\n",
    "plt.ylabel(\"Inertia\")\n",
    "plt.title(\"K-Means Elbow\")\n",
    "plt.tight_layout()\n",
    "plt.savefig(PATHS[\"elbow_plot\"], dpi=144)\n",
    "plt.close()\n",
    "\n",
    "# Silhouette plot (save)\n",
    "plt.figure(figsize=(6,4))\n",
    "plt.plot(ks, sil_scores, marker='o')\n",
    "plt.xlabel(\"k\")\n",
    "plt.ylabel(\"Silhouette\")\n",
    "plt.title(\"K-Means Silhouette vs. k\")\n",
    "plt.tight_layout()\n",
    "plt.savefig(PATHS[\"silhouette_plot\"], dpi=144)\n",
    "plt.close()\n",
    "\n",
    "# Davies–Bouldin plot (save) - lower is better\n",
    "plt.figure(figsize=(6,4))\n",
    "plt.plot(ks, db_scores, marker='o')\n",
    "plt.xlabel(\"k\")\n",
    "plt.ylabel(\"Davies–Bouldin Index (↓)\")\n",
    "plt.title(\"Davies–Bouldin vs. k\")\n",
    "plt.tight_layout()\n",
    "plt.savefig(PATHS[\"db_plot\"], dpi=144)\n",
    "plt.close()\n",
    "\n",
    "# Calinski–Harabasz plot (save) - higher is better\n",
    "plt.figure(figsize=(6,4))\n",
    "plt.plot(ks, ch_scores, marker='o')\n",
    "plt.xlabel(\"k\")\n",
    "plt.ylabel(\"Calinski–Harabasz (↑)\")\n",
    "plt.title(\"Calinski–Harabasz vs. k\")\n",
    "plt.tight_layout()\n",
    "plt.savefig(PATHS[\"ch_plot\"], dpi=144)\n",
    "plt.close()\n",
    "\n",
    "# Choose best_k by silhouette\n",
    "best_k = ks[int(np.nanargmax(sil_scores))]\n",
    "print(f\"Best k by silhouette score: {best_k} with score {np.nanmax(sil_scores):.4f}\")\n",
    "\n",
    "# Persist selection and (optionally) metric snapshots\n",
    "selected = load_json(PATHS[\"selection\"], default={})\n",
    "selected[\"best_k\"] = int(best_k)\n",
    "selected[\"metrics\"] = {\n",
    "    \"k\": ks,\n",
    "    \"inertia\": inertias,\n",
    "    \"silhouette\": sil_scores,\n",
    "    \"davies_bouldin\": db_scores,\n",
    "    \"calinski_harabasz\": ch_scores,\n",
    "    \"plots\": {\n",
    "        \"elbow\": str(PATHS[\"elbow_plot\"]),\n",
    "        \"silhouette\": str(PATHS[\"silhouette_plot\"]),\n",
    "        \"davies_bouldin\": str(PATHS[\"db_plot\"]),\n",
    "        \"calinski_harabasz\": str(PATHS[\"ch_plot\"]),\n",
    "    }\n",
    "}\n",
    "save_json(selected, PATHS[\"selection\"])\n",
    "print(\"Saved best_k and metrics to:\", PATHS[\"selection\"], \"-> best_k:\", selected[\"best_k\"])\n",
    "\n",
    "# avoid accidental reuse of a stale 'labels'\n",
    "try:\n",
    "    del labels\n",
    "except NameError:\n",
    "    pass\n"
   ]
  },
  {
   "cell_type": "code",
   "execution_count": 9,
   "id": "f8b75f7c",
   "metadata": {
    "execution": {
     "iopub.execute_input": "2025-08-27T22:43:45.996824Z",
     "iopub.status.busy": "2025-08-27T22:43:45.996484Z",
     "iopub.status.idle": "2025-08-27T22:43:47.468335Z",
     "shell.execute_reply": "2025-08-27T22:43:47.467541Z"
    }
   },
   "outputs": [
    {
     "name": "stdout",
     "output_type": "stream",
     "text": [
      "6\n"
     ]
    },
    {
     "name": "stdout",
     "output_type": "stream",
     "text": [
      "Average ARI across 20 runs: 0.834\n",
      "Min ARI: 0.541, Max ARI: 0.991\n"
     ]
    }
   ],
   "source": [
    "# Stability analysis\n",
    "\n",
    "k = best_k  # use your chosen k\n",
    "print(k)\n",
    "n_runs = 20\n",
    "labels_list = []\n",
    "\n",
    "for seed in range(n_runs):\n",
    "    km = KMeans(n_clusters=k, random_state=seed, n_init=10).fit(X_cluster)\n",
    "    labels_list.append(km.labels_)\n",
    "\n",
    "# Compare all pairs of clusterings using Adjusted Rand Index\n",
    "stability_scores = []\n",
    "for i in range(n_runs):\n",
    "    for j in range(i+1, n_runs):\n",
    "        ari = adjusted_rand_score(labels_list[i], labels_list[j])\n",
    "        stability_scores.append(ari)\n",
    "\n",
    "#AVG ARI CLOSE TO 1 = GOOD\n",
    "print(f\"Average ARI across {n_runs} runs: {np.mean(stability_scores):.3f}\")\n",
    "print(f\"Min ARI: {np.min(stability_scores):.3f}, Max ARI: {np.max(stability_scores):.3f}\")\n"
   ]
  },
  {
   "cell_type": "code",
   "execution_count": 10,
   "id": "96318e12",
   "metadata": {
    "execution": {
     "iopub.execute_input": "2025-08-27T22:43:47.471308Z",
     "iopub.status.busy": "2025-08-27T22:43:47.470963Z",
     "iopub.status.idle": "2025-08-27T22:43:47.637894Z",
     "shell.execute_reply": "2025-08-27T22:43:47.637215Z"
    }
   },
   "outputs": [
    {
     "name": "stdout",
     "output_type": "stream",
     "text": [
      "k=6, silhouette = 0.143\n",
      "Centroids:\n",
      "         pts_per40  eFG_pct  AST_per_TO  reb_per40  stl_per40  blk_per40\n",
      "cluster                                                                 \n",
      "0            -0.41    -0.19       -0.11      -0.53      -0.43      -0.23\n",
      "1             0.86     0.34       -0.06       0.82       0.47       0.46\n",
      "2            -1.07    -1.06       -0.03      -0.50       0.04      -0.49\n",
      "3             0.48     0.36        0.05      -0.65      -0.08      -0.45\n",
      "4            -0.84     0.00        2.07      -0.57       0.50      -0.53\n",
      "5            -0.07     0.12       -0.79       0.92      -0.34       0.82\n",
      "Saved K Means model to: /Users/savvasneofytou/Desktop/basketball/artifacts/run_20250828_014313/kmeans_model.joblib\n",
      "Saved: /Users/savvasneofytou/Desktop/basketball/artifacts/run_20250828_014313/cluster_summary.json\n"
     ]
    },
    {
     "name": "stderr",
     "output_type": "stream",
     "text": [
      "/var/folders/1p/z7sxpqkn40d8zz3wx8qqp0980000gn/T/ipykernel_81238/652413461.py:45: UserWarning: FigureCanvasAgg is non-interactive, and thus cannot be shown\n",
      "  plt.show()\n"
     ]
    }
   ],
   "source": [
    "# K-Means Clustering\n",
    "\n",
    "# make sure we have the PC matrix\n",
    "X_cluster = df_pca[pc_cols].values\n",
    "col = f'km{best_k}_cluster'\n",
    "\n",
    "# Fit *fresh* at best_k\n",
    "kmeans_best = KMeans(n_clusters=int(best_k), random_state=42, n_init=10)\n",
    "labels_best = kmeans_best.fit_predict(X_cluster)\n",
    "\n",
    "# Attach labels to both dataframes\n",
    "df_pca[col]   = labels_best\n",
    "df_clean[col] = labels_best\n",
    "\n",
    "# Silhouette for the chosen model\n",
    "sil_best = silhouette_score(X_cluster, labels_best)\n",
    "print(f\"k={best_k}, silhouette = {sil_best:.3f}\")\n",
    "\n",
    "# Basic centroids on key stats (optional)\n",
    "key_stats = ['pts_per40','eFG_pct','AST_per_TO','reb_per40','stl_per40','blk_per40']\n",
    "cent = (\n",
    "    df_clean.groupby(col)[key_stats]\n",
    "    .mean()\n",
    "    .round(2)\n",
    "    .rename_axis('cluster')\n",
    ")\n",
    "print(\"Centroids:\")\n",
    "print(cent.to_string())\n",
    "\n",
    "# Scatter in PC1–PC2 (use the correct labels)\n",
    "plt.figure(figsize=(6,5))\n",
    "sns.scatterplot(\n",
    "    x=df_pca['PC1'].values,\n",
    "    y=df_pca['PC2'].values,\n",
    "    hue=labels_best,                 # <-- use labels_best\n",
    "    palette='tab10',\n",
    "    s=30,\n",
    "    alpha=0.7\n",
    ")\n",
    "plt.title(f\"K-Means (k={best_k}) in PC1–PC2 Space\")\n",
    "plt.xlabel(\"PC1\")\n",
    "plt.ylabel(\"PC2\")\n",
    "plt.legend(title=col, bbox_to_anchor=(1,1))\n",
    "plt.tight_layout()\n",
    "plt.show()\n",
    "\n",
    "# Save the model\n",
    "joblib.dump(kmeans_best, PATHS[\"model_file\"])\n",
    "print(\"Saved K Means model to:\", PATHS[\"model_file\"])\n",
    "\n",
    "# Save a concise summary JSON\n",
    "summary = load_json(PATHS[\"cluster_summary\"], default={})\n",
    "summary.update({\n",
    "    \"selected\": {\n",
    "        \"n_clusters\": int(best_k),\n",
    "        \"pca_components\": int(load_json(PATHS[\"selection\"]).get(\"n_pca\", 0))\n",
    "    },\n",
    "    \"scores\": {\n",
    "        \"silhouette\": float(sil_best)\n",
    "    },\n",
    "    \"cluster_sizes\": {str(i): int((labels_best == i).sum())\n",
    "                      for i in np.unique(labels_best)}\n",
    "})\n",
    "save_json(summary, PATHS[\"cluster_summary\"])\n",
    "print(\"Saved:\", PATHS[\"cluster_summary\"])\n"
   ]
  },
  {
   "cell_type": "markdown",
   "id": "ebb48686",
   "metadata": {},
   "source": [
    "**ARCHETYPE MATCHING**"
   ]
  },
  {
   "cell_type": "code",
   "execution_count": 11,
   "id": "a965cb52",
   "metadata": {
    "execution": {
     "iopub.execute_input": "2025-08-27T22:43:47.640899Z",
     "iopub.status.busy": "2025-08-27T22:43:47.640559Z",
     "iopub.status.idle": "2025-08-27T22:43:47.650829Z",
     "shell.execute_reply": "2025-08-27T22:43:47.649848Z"
    }
   },
   "outputs": [
    {
     "name": "stdout",
     "output_type": "stream",
     "text": [
      "Loaded 50 archetypes from ../data/archetypes.json\n"
     ]
    }
   ],
   "source": [
    "# Load basketball archetypes from JSON file\n",
    "def load_archetypes_from_json(path=\"archetypes.json\", strict=False):\n",
    "    \"\"\"\n",
    "    Load archetypes from JSON into a dict[str, list[(metric, sign)]].\n",
    "    - Strips whitespace from metric names (fixes typos like 'three_per100 ').\n",
    "    - Coerces `sign` to int and checks it is in {-1, 1}.\n",
    "    - If strict=True, raises on problems; else collects warnings.\n",
    "    \"\"\"\n",
    "    with open(path, \"r\", encoding=\"utf-8\") as f:\n",
    "        raw = json.load(f)\n",
    "\n",
    "    loaded = {}\n",
    "    warnings = []\n",
    "\n",
    "    for name, pairs in raw.items():\n",
    "        cleaned_pairs = []\n",
    "        for i, pair in enumerate(pairs):\n",
    "            if not isinstance(pair, (list, tuple)) or len(pair) != 2:\n",
    "                msg = f\"[{name}] pair {i} is not [metric, sign]: {pair}\"\n",
    "                if strict:\n",
    "                    raise ValueError(msg)\n",
    "                warnings.append(msg)\n",
    "                continue\n",
    "\n",
    "            metric = str(pair[0]).strip()\n",
    "            try:\n",
    "                sign = int(pair[1])\n",
    "            except Exception:\n",
    "                msg = f\"[{name}] sign not int for metric '{metric}': {pair[1]}\"\n",
    "                if strict:\n",
    "                    raise ValueError(msg)\n",
    "                warnings.append(msg)\n",
    "                continue\n",
    "\n",
    "            if sign not in (-1, 1):\n",
    "                msg = f\"[{name}] sign must be -1 or 1 for metric '{metric}', got {sign}\"\n",
    "                if strict:\n",
    "                    raise ValueError(msg)\n",
    "                warnings.append(msg)\n",
    "                # clamp to nearest valid\n",
    "                sign = 1 if sign > 0 else -1\n",
    "\n",
    "            cleaned_pairs.append((metric, sign))\n",
    "        loaded[name] = cleaned_pairs\n",
    "\n",
    "    if warnings:\n",
    "        print(\"Warnings while loading archetypes:\")\n",
    "        for w in warnings:\n",
    "            print(\" -\", w)\n",
    "    print(f\"Loaded {len(loaded)} archetypes from {path}\")\n",
    "    return loaded\n",
    "\n",
    "# Load from disk -> Python dict with tuples\n",
    "archetypes = load_archetypes_from_json(\"../data/archetypes.json\")\n"
   ]
  },
  {
   "cell_type": "code",
   "execution_count": 12,
   "id": "0fa4803e",
   "metadata": {
    "execution": {
     "iopub.execute_input": "2025-08-27T22:43:47.654479Z",
     "iopub.status.busy": "2025-08-27T22:43:47.654156Z",
     "iopub.status.idle": "2025-08-27T22:43:47.728610Z",
     "shell.execute_reply": "2025-08-27T22:43:47.727329Z"
    }
   },
   "outputs": [
    {
     "name": "stdout",
     "output_type": "stream",
     "text": [
      "Best total score: 6.257216443029767\n",
      "Cluster -> Archetype\n",
      "0: Floor General\n",
      "1: Rim Protector / Rebounding Big\n",
      "2: Non-Impact Role Player\n",
      "3: Deep Range Specialist\n",
      "4: Two-Way Guard\n",
      "5: Putback Specialist\n",
      "\n",
      "Confidence margins:\n",
      "0: 0.212\n",
      "1: 0.017\n",
      "2: 0.812\n",
      "3: 0.283\n",
      "4: 0.685\n",
      "5: 0.176\n"
     ]
    }
   ],
   "source": [
    "cluster_col   = f'km{best_k}_cluster'\n",
    "cluster_labels = np.sort(df_clean[cluster_col].unique())\n",
    "\n",
    "# Collect the metrics we actually need and z-score them (vectorized)\n",
    "all_metrics = sorted({m for lst in archetypes.values() for (m, _) in lst})\n",
    "present_metrics = [m for m in all_metrics if m in df_clean.columns]\n",
    "\n",
    "X = df_clean[present_metrics].astype(float).copy()\n",
    "col_means = X.mean(axis=0, skipna=True)\n",
    "X = X.fillna(col_means)\n",
    "col_stds = X.std(axis=0, ddof=0).replace(0.0, 1.0)  # avoid div-by-zero\n",
    "Z = (X - col_means) / col_stds  # global z-score\n",
    "\n",
    "# Cluster centroids (mean z-score per metric)\n",
    "# Use the series version of groupby to avoid adding cluster column to Z\n",
    "cluster_centroids = Z.groupby(df_clean[cluster_col]).mean()   # shape: (n_clusters, n_metrics)\n",
    "cluster_centroids = cluster_centroids.reindex(index=cluster_labels)\n",
    "\n",
    "# Build a rectangular score matrix for all clusters × all archetypes (vectorized)\n",
    "def archetype_weights(n, base=0.5):\n",
    "    # decreasing geometric weights from most-important → least-important\n",
    "    raw = np.array([base**i for i in range(n)][::-1], dtype=float)\n",
    "    return raw / raw.sum()\n",
    "\n",
    "arch_names = list(archetypes.keys())\n",
    "score_matrix = np.full((len(cluster_labels), len(arch_names)), -1e3, dtype=float)  # default if no overlap\n",
    "\n",
    "metrics_cols = cluster_centroids.columns\n",
    "\n",
    "for j, arch in enumerate(arch_names):\n",
    "    feats = [m for m, _ in archetypes[arch] if m in metrics_cols]\n",
    "    if not feats:\n",
    "        continue\n",
    "    # indices in the archetype's list that actually exist\n",
    "    idxs_in_arch = [i for i, (m, _) in enumerate(archetypes[arch]) if m in metrics_cols]\n",
    "    # weight mask (renormalized over present features)\n",
    "    w_full = archetype_weights(len(archetypes[arch]))\n",
    "    w = w_full[idxs_in_arch]\n",
    "    w = w / w.sum()\n",
    "\n",
    "    # signs aligned to feats\n",
    "    signs = np.array([s for (m, s) in archetypes[arch] if m in metrics_cols], dtype=float)\n",
    "    # Z-scores for all clusters over these feats\n",
    "    C = cluster_centroids.loc[:, feats].to_numpy()  # shape: (n_clusters, len(feats))\n",
    "    # weighted sum per cluster\n",
    "    # multiply by sign (direction) then dot with weights\n",
    "    scores = (C * signs) @ w\n",
    "    score_matrix[:, j] = scores\n",
    "\n",
    "# Solve one rectangular assignment: each cluster maps to a unique archetype\n",
    "# We want to maximize score, so minimize negative score\n",
    "cost = -score_matrix\n",
    "row_ind, col_ind = linear_sum_assignment(cost)  # works with rectangular matrices\n",
    "\n",
    "best_mapping = {int(cluster_labels[r]): arch_names[c] for r, c in zip(row_ind, col_ind)}\n",
    "best_total   = score_matrix[row_ind, col_ind].sum()\n",
    "\n",
    "print(\"Best total score:\", best_total)\n",
    "print(\"Cluster -> Archetype\")\n",
    "for cl in cluster_labels:\n",
    "    arch = best_mapping.get(int(cl), None)\n",
    "    print(f\"{cl}: {arch}\")\n",
    "\n",
    "# Report confidence (row-wise margin between best and second-best)\n",
    "row_best = score_matrix.max(axis=1)\n",
    "row_second = np.partition(score_matrix, -2, axis=1)[:, -2]\n",
    "confidence = {int(cluster_labels[i]): float(row_best[i] - row_second[i]) for i in range(len(cluster_labels))}\n",
    "\n",
    "print(\"\\nConfidence margins:\")\n",
    "for cl in cluster_labels:\n",
    "    print(f\"{cl}: {confidence[int(cl)]:.3f}\")\n"
   ]
  },
  {
   "cell_type": "code",
   "execution_count": 13,
   "id": "7b3b5f01",
   "metadata": {
    "execution": {
     "iopub.execute_input": "2025-08-27T22:43:47.733027Z",
     "iopub.status.busy": "2025-08-27T22:43:47.732619Z",
     "iopub.status.idle": "2025-08-27T22:43:47.757782Z",
     "shell.execute_reply": "2025-08-27T22:43:47.757010Z"
    }
   },
   "outputs": [
    {
     "name": "stdout",
     "output_type": "stream",
     "text": [
      "\n",
      "Cluster -> Archetype (with match % of a perfect 1σ fit):\n"
     ]
    },
    {
     "data": {
      "text/html": [
       "<div>\n",
       "<style scoped>\n",
       "    .dataframe tbody tr th:only-of-type {\n",
       "        vertical-align: middle;\n",
       "    }\n",
       "\n",
       "    .dataframe tbody tr th {\n",
       "        vertical-align: top;\n",
       "    }\n",
       "\n",
       "    .dataframe thead th {\n",
       "        text-align: right;\n",
       "    }\n",
       "</style>\n",
       "<table border=\"1\" class=\"dataframe\">\n",
       "  <thead>\n",
       "    <tr style=\"text-align: right;\">\n",
       "      <th></th>\n",
       "      <th>cluster</th>\n",
       "      <th>archetype</th>\n",
       "      <th>raw_score</th>\n",
       "      <th>match_%</th>\n",
       "    </tr>\n",
       "  </thead>\n",
       "  <tbody>\n",
       "    <tr>\n",
       "      <th>0</th>\n",
       "      <td>0</td>\n",
       "      <td>Floor General</td>\n",
       "      <td>0.873222</td>\n",
       "      <td>87.3%</td>\n",
       "    </tr>\n",
       "    <tr>\n",
       "      <th>1</th>\n",
       "      <td>1</td>\n",
       "      <td>Rim Protector / Rebounding Big</td>\n",
       "      <td>1.067458</td>\n",
       "      <td>100.0%</td>\n",
       "    </tr>\n",
       "    <tr>\n",
       "      <th>2</th>\n",
       "      <td>2</td>\n",
       "      <td>Non-Impact Role Player</td>\n",
       "      <td>1.048827</td>\n",
       "      <td>100.0%</td>\n",
       "    </tr>\n",
       "    <tr>\n",
       "      <th>3</th>\n",
       "      <td>3</td>\n",
       "      <td>Deep Range Specialist</td>\n",
       "      <td>0.827875</td>\n",
       "      <td>82.8%</td>\n",
       "    </tr>\n",
       "    <tr>\n",
       "      <th>4</th>\n",
       "      <td>4</td>\n",
       "      <td>Two-Way Guard</td>\n",
       "      <td>1.362170</td>\n",
       "      <td>100.0%</td>\n",
       "    </tr>\n",
       "    <tr>\n",
       "      <th>5</th>\n",
       "      <td>5</td>\n",
       "      <td>Putback Specialist</td>\n",
       "      <td>1.077664</td>\n",
       "      <td>100.0%</td>\n",
       "    </tr>\n",
       "  </tbody>\n",
       "</table>\n",
       "</div>"
      ],
      "text/plain": [
       "   cluster                       archetype  raw_score match_%\n",
       "0        0                   Floor General   0.873222   87.3%\n",
       "1        1  Rim Protector / Rebounding Big   1.067458  100.0%\n",
       "2        2          Non-Impact Role Player   1.048827  100.0%\n",
       "3        3           Deep Range Specialist   0.827875   82.8%\n",
       "4        4                   Two-Way Guard   1.362170  100.0%\n",
       "5        5              Putback Specialist   1.077664  100.0%"
      ]
     },
     "metadata": {},
     "output_type": "display_data"
    },
    {
     "name": "stdout",
     "output_type": "stream",
     "text": [
      "Updated with archetypes: /Users/savvasneofytou/Desktop/basketball/artifacts/run_20250828_014313/cluster_summary.json\n"
     ]
    }
   ],
   "source": [
    "# Scoring Sytem 0-100%\n",
    "score_df = pd.DataFrame(score_matrix, index=cluster_labels, columns=arch_names)\n",
    "\n",
    "row_labels = list(score_df.index)\n",
    "col_labels = list(score_df.columns)\n",
    "\n",
    "assigned = []\n",
    "cluster_map=dict()\n",
    "for cl in row_labels:\n",
    "    icl = int(cl)\n",
    "    arch = best_mapping.get(icl)\n",
    "    if arch is None:\n",
    "        # belt-and-braces fallback if something slipped through\n",
    "        j = int(np.nanargmax(score_df.loc[cl].values))\n",
    "        arch = col_labels[j]\n",
    "        best_mapping[icl] = arch\n",
    "    raw = float(score_df.loc[cl, arch])\n",
    "    pct = float(np.clip(raw, 0.0, 1.0)) * 100.0\n",
    "    assigned.append({\n",
    "        \"cluster\":   icl,\n",
    "        \"archetype\": arch,\n",
    "        \"raw_score\": raw,\n",
    "        \"match_%\":   f\"{pct:.1f}%\"\n",
    "    })\n",
    "    cluster_map[icl] = arch\n",
    "\n",
    "print(\"\\nCluster -> Archetype (with match % of a perfect 1σ fit):\")\n",
    "display(pd.DataFrame(assigned).sort_values(\"cluster\"))\n",
    "\n",
    "# Update Cluster Summary\n",
    "# Load the saved summary JSON\n",
    "summary = load_json(PATHS[\"cluster_summary\"], default={})\n",
    "\n",
    "# Replace cluster numbers in \"cluster_sizes\" with archetype names\n",
    "if \"cluster_sizes\" in summary:\n",
    "    summary[\"cluster_sizes\"] = {\n",
    "        cluster_map.get(int(k), f\"Cluster {k}\"): v\n",
    "        for k, v in summary[\"cluster_sizes\"].items()\n",
    "    }\n",
    "\n",
    "# Save updated summary\n",
    "save_json(summary, PATHS[\"cluster_summary\"])\n",
    "print(\"Updated with archetypes:\", PATHS[\"cluster_summary\"])\n"
   ]
  },
  {
   "cell_type": "code",
   "execution_count": 14,
   "id": "f8593c48",
   "metadata": {
    "execution": {
     "iopub.execute_input": "2025-08-27T22:43:47.760486Z",
     "iopub.status.busy": "2025-08-27T22:43:47.760236Z",
     "iopub.status.idle": "2025-08-27T22:43:47.900851Z",
     "shell.execute_reply": "2025-08-27T22:43:47.900059Z"
    }
   },
   "outputs": [
    {
     "name": "stdout",
     "output_type": "stream",
     "text": [
      "\n",
      "Sample players with archetypes:\n"
     ]
    },
    {
     "data": {
      "text/html": [
       "<div>\n",
       "<style scoped>\n",
       "    .dataframe tbody tr th:only-of-type {\n",
       "        vertical-align: middle;\n",
       "    }\n",
       "\n",
       "    .dataframe tbody tr th {\n",
       "        vertical-align: top;\n",
       "    }\n",
       "\n",
       "    .dataframe thead th {\n",
       "        text-align: right;\n",
       "    }\n",
       "</style>\n",
       "<table border=\"1\" class=\"dataframe\">\n",
       "  <thead>\n",
       "    <tr style=\"text-align: right;\">\n",
       "      <th></th>\n",
       "      <th>player_ind</th>\n",
       "      <th>season</th>\n",
       "      <th>cluster</th>\n",
       "      <th>Archetype</th>\n",
       "    </tr>\n",
       "  </thead>\n",
       "  <tbody>\n",
       "    <tr>\n",
       "      <th>0</th>\n",
       "      <td>Kayla Grimme</td>\n",
       "      <td>2017-18</td>\n",
       "      <td>1</td>\n",
       "      <td>Rim Protector / Rebounding Big</td>\n",
       "    </tr>\n",
       "    <tr>\n",
       "      <th>1</th>\n",
       "      <td>Amani Tatum</td>\n",
       "      <td>2017-18</td>\n",
       "      <td>4</td>\n",
       "      <td>Two-Way Guard</td>\n",
       "    </tr>\n",
       "    <tr>\n",
       "      <th>2</th>\n",
       "      <td>Gabby Cajou</td>\n",
       "      <td>2017-18</td>\n",
       "      <td>4</td>\n",
       "      <td>Two-Way Guard</td>\n",
       "    </tr>\n",
       "    <tr>\n",
       "      <th>3</th>\n",
       "      <td>Mikki Guiton</td>\n",
       "      <td>2017-18</td>\n",
       "      <td>5</td>\n",
       "      <td>Putback Specialist</td>\n",
       "    </tr>\n",
       "    <tr>\n",
       "      <th>4</th>\n",
       "      <td>Taylor Williams</td>\n",
       "      <td>2017-18</td>\n",
       "      <td>2</td>\n",
       "      <td>Non-Impact Role Player</td>\n",
       "    </tr>\n",
       "    <tr>\n",
       "      <th>5</th>\n",
       "      <td>Courtney Warley</td>\n",
       "      <td>2017-18</td>\n",
       "      <td>5</td>\n",
       "      <td>Putback Specialist</td>\n",
       "    </tr>\n",
       "    <tr>\n",
       "      <th>6</th>\n",
       "      <td>Lizahya Morgan</td>\n",
       "      <td>2017-18</td>\n",
       "      <td>2</td>\n",
       "      <td>Non-Impact Role Player</td>\n",
       "    </tr>\n",
       "    <tr>\n",
       "      <th>7</th>\n",
       "      <td>Lynette Taitt</td>\n",
       "      <td>2017-18</td>\n",
       "      <td>0</td>\n",
       "      <td>Floor General</td>\n",
       "    </tr>\n",
       "    <tr>\n",
       "      <th>8</th>\n",
       "      <td>Sini Mäkelä</td>\n",
       "      <td>2017-18</td>\n",
       "      <td>0</td>\n",
       "      <td>Floor General</td>\n",
       "    </tr>\n",
       "    <tr>\n",
       "      <th>9</th>\n",
       "      <td>Kayla Grimme</td>\n",
       "      <td>2016-17</td>\n",
       "      <td>1</td>\n",
       "      <td>Rim Protector / Rebounding Big</td>\n",
       "    </tr>\n",
       "  </tbody>\n",
       "</table>\n",
       "</div>"
      ],
      "text/plain": [
       "        player_ind   season  cluster                       Archetype\n",
       "0     Kayla Grimme  2017-18        1  Rim Protector / Rebounding Big\n",
       "1      Amani Tatum  2017-18        4                   Two-Way Guard\n",
       "2      Gabby Cajou  2017-18        4                   Two-Way Guard\n",
       "3     Mikki Guiton  2017-18        5              Putback Specialist\n",
       "4  Taylor Williams  2017-18        2          Non-Impact Role Player\n",
       "5  Courtney Warley  2017-18        5              Putback Specialist\n",
       "6   Lizahya Morgan  2017-18        2          Non-Impact Role Player\n",
       "7    Lynette Taitt  2017-18        0                   Floor General\n",
       "8      Sini Mäkelä  2017-18        0                   Floor General\n",
       "9     Kayla Grimme  2016-17        1  Rim Protector / Rebounding Big"
      ]
     },
     "metadata": {},
     "output_type": "display_data"
    }
   ],
   "source": [
    "# Add human-readable archetype per player\n",
    "cluster_col = \"cluster\" if \"cluster\" in df_clean.columns else f\"km{int(best_k)}_cluster\"\n",
    "df_clean[\"Archetype\"] = (\n",
    "    df_clean[cluster_col].astype(int).map(best_mapping).fillna(df_clean[cluster_col].astype(str))\n",
    ")\n",
    "df_clean[\"cluster\"] = df_clean[cluster_col].astype(int)  # ensure generic cluster column exists\n",
    "df_clean[\"Archetype\"] = df_clean[\"cluster\"].map(best_mapping).fillna(df_clean[\"cluster\"].astype(str))\n",
    "\n",
    "# Sample output\n",
    "print(\"\\nSample players with archetypes:\")\n",
    "display(\n",
    "    df_clean[[\"player_ind\", \"season\", \"cluster\", \"Archetype\"]]\n",
    "    .head(10)\n",
    ")\n",
    "\n",
    "# df_clean.drop(columns=[\"km6_cluster\",'cluster'], inplace=True)\n",
    "\n",
    "# merge archetype onto df_full by season-specific player_id\n",
    "df_out=df_full.copy()\n",
    "df_out[\"player_id\"] = df_out[\"player_id\"].astype(int)\n",
    "df_clean[\"player_id\"] = df_clean[\"player_id\"].astype(int)\n",
    "\n",
    "# ensure player_id types match\n",
    "df_out['player_id'] = df_out['player_id'].astype(df_clean['player_id'].dtype)\n",
    "\n",
    "# build a lookup: player_id -> Archetype\n",
    "archetype_lookup = (\n",
    "    df_clean.drop_duplicates('player_id')     # just in case\n",
    "            .set_index('player_id')['Archetype']\n",
    ")\n",
    "\n",
    "# copy over; players not in df_clean get \"Not Enough Minutes Played\"\n",
    "df_out['Archetype'] = df_out['player_id'].map(archetype_lookup).fillna('Not Enough Minutes Played')\n",
    "\n",
    "df_out.drop(columns=[\"player_id\"], inplace=True, errors='ignore')\n",
    "\n",
    "\n",
    "df_out.to_parquet(PATHS[\"processed_data\"])"
   ]
  }
 ],
 "metadata": {
  "kernelspec": {
   "display_name": ".venv",
   "language": "python",
   "name": "python3"
  },
  "language_info": {
   "codemirror_mode": {
    "name": "ipython",
    "version": 3
   },
   "file_extension": ".py",
   "mimetype": "text/x-python",
   "name": "python",
   "nbconvert_exporter": "python",
   "pygments_lexer": "ipython3",
   "version": "3.13.4"
  }
 },
 "nbformat": 4,
 "nbformat_minor": 5
}
